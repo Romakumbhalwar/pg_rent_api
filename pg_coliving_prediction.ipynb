{
 "cells": [
  {
   "cell_type": "code",
   "execution_count": 1,
   "id": "38ff79e6-c1d2-44f9-b64c-b541af1770f3",
   "metadata": {},
   "outputs": [
    {
     "name": "stdout",
     "output_type": "stream",
     "text": [
      "✅ Model trained and saved as pg_rent_final_model.pkl\n"
     ]
    }
   ],
   "source": [
    "import pandas as pd\n",
    "from sklearn.model_selection import train_test_split\n",
    "from sklearn.pipeline import Pipeline\n",
    "from sklearn.preprocessing import OneHotEncoder\n",
    "from sklearn.compose import ColumnTransformer\n",
    "from sklearn.ensemble import RandomForestRegressor\n",
    "import joblib\n",
    "\n",
    "# Load dataset\n",
    "df = pd.read_csv(\"pg_coliving_dataset.csv\")\n",
    "\n",
    "# Combine rare shearing categories\n",
    "df['shearing'] = df['shearing'].replace({'four': 'shared', 'multi': 'shared'})\n",
    "\n",
    "# Add interaction feature: meals + shearing\n",
    "df['meals_shearing'] = df['meals_avilable'] + '_' + df['shearing']\n",
    "\n",
    "# Select relevant features\n",
    "features = [\n",
    "    'city', 'area', 'location', 'zone', 'shearing', 'best_suit_for',\n",
    "    'meals_avilable', 'notic_period', 'lock_in_period', 'amenities_count',\n",
    "    'in_time_at_night', 'non_veg_allowed', 'opposite_gender_allowed',\n",
    "    'visitors_allowed', 'gurdian_allowed', 'drinking_allowed', 'smoking_allowed',\n",
    "    'meals_shearing'\n",
    "]\n",
    "target = 'rent_price'\n",
    "\n",
    "# Filter and clean\n",
    "df = df[features + [target]].dropna()\n",
    "df['amenities_count'] = pd.to_numeric(df['amenities_count'], errors='coerce').fillna(0)\n",
    "df['rent_price'] = pd.to_numeric(df['rent_price'], errors='coerce')\n",
    "df.dropna(inplace=True)\n",
    "\n",
    "# Features and label\n",
    "X = df.drop(columns='rent_price')\n",
    "y = df['rent_price']\n",
    "\n",
    "# Preprocessing\n",
    "cat_cols = X.select_dtypes(include='object').columns.tolist()\n",
    "preprocessor = ColumnTransformer([\n",
    "    ('cat', OneHotEncoder(handle_unknown='ignore'), cat_cols)\n",
    "], remainder='passthrough')\n",
    "\n",
    "# Model pipeline\n",
    "pipeline = Pipeline([\n",
    "    ('preprocessor', preprocessor),\n",
    "    ('model', RandomForestRegressor(n_estimators=100, random_state=42))\n",
    "])\n",
    "\n",
    "# Train/test split and training\n",
    "X_train, X_test, y_train, y_test = train_test_split(X, y, test_size=0.2, random_state=42)\n",
    "pipeline.fit(X_train, y_train)\n",
    "\n",
    "# Save model\n",
    "joblib.dump(pipeline, \"pg_rent_final_model.pkl\")\n",
    "print(\"✅ Model trained and saved as pg_rent_final_model.pkl\")\n"
   ]
  },
  {
   "cell_type": "code",
   "execution_count": 2,
   "id": "fa7a37a7-1551-4a37-879c-fdf5ed3b52ec",
   "metadata": {},
   "outputs": [
    {
     "name": "stdout",
     "output_type": "stream",
     "text": [
      "✅ Predicted Rent: ₹5825.0\n"
     ]
    }
   ],
   "source": [
    "import pandas as pd\n",
    "import joblib\n",
    "\n",
    "# Load the saved model\n",
    "model = joblib.load(\"pg_rent_final_model.pkl\")\n",
    "\n",
    "def predict_pg_rent_refined(\n",
    "    city, area, location, zone, shearing, best_suit_for,\n",
    "    meals_avilable, notic_period, lock_in_period, amenities_count,\n",
    "    in_time_at_night, non_veg_allowed, opposite_gender_allowed,\n",
    "    visitors_allowed, gurdian_allowed, drinking_allowed, smoking_allowed\n",
    "):\n",
    "    # Combine shearing groups\n",
    "    shearing = shearing if shearing not in ['four', 'multi'] else 'shared'\n",
    "    meals_shearing = meals_avilable + \"_\" + shearing\n",
    "\n",
    "    input_data = pd.DataFrame([{\n",
    "        'city': city,\n",
    "        'area': area,\n",
    "        'location': location,\n",
    "        'zone': zone,\n",
    "        'shearing': shearing,\n",
    "        'best_suit_for': best_suit_for,\n",
    "        'meals_avilable': meals_avilable,\n",
    "        'notic_period': notic_period,\n",
    "        'lock_in_period': lock_in_period,\n",
    "        'amenities_count': amenities_count,\n",
    "        'in_time_at_night': in_time_at_night,\n",
    "        'non_veg_allowed': non_veg_allowed,\n",
    "        'opposite_gender_allowed': opposite_gender_allowed,\n",
    "        'visitors_allowed': visitors_allowed,\n",
    "        'gurdian_allowed': gurdian_allowed,\n",
    "        'drinking_allowed': drinking_allowed,\n",
    "        'smoking_allowed': smoking_allowed,\n",
    "        'meals_shearing': meals_shearing\n",
    "    }])\n",
    "\n",
    "    prediction = model.predict(input_data)[0]\n",
    "    return round(prediction, 2)\n",
    "\n",
    "# Example usage\n",
    "predicted_rent = predict_pg_rent_refined(\n",
    "    city='nagpur',\n",
    "    area='manewada',\n",
    "    location='manewada, nagpur',\n",
    "    zone='south',\n",
    "    shearing='private',\n",
    "    best_suit_for='students',\n",
    "    meals_avilable='no',\n",
    "    notic_period='15 days',\n",
    "    lock_in_period='30 days',\n",
    "    amenities_count=3,\n",
    "    in_time_at_night='10 PM',\n",
    "    non_veg_allowed='yes',\n",
    "    opposite_gender_allowed='no',\n",
    "    visitors_allowed='yes',\n",
    "    gurdian_allowed='yes',\n",
    "    drinking_allowed='no',\n",
    "    smoking_allowed='no'\n",
    ")\n",
    "\n",
    "print(f\"✅ Predicted Rent: ₹{predicted_rent}\")\n"
   ]
  },
  {
   "cell_type": "code",
   "execution_count": 3,
   "id": "6648f8a5-9897-4e37-b479-c5d1fa316b46",
   "metadata": {},
   "outputs": [
    {
     "name": "stdout",
     "output_type": "stream",
     "text": [
      "✅ Predicted Rent: ₹3805.0\n"
     ]
    }
   ],
   "source": [
    "predicted_rent = predict_pg_rent_refined(\n",
    "    city='nagpur',\n",
    "    area='jaitala',\n",
    "    location='jaitala, nagpur',\n",
    "    zone='south',\n",
    "    shearing='double',\n",
    "    best_suit_for='students',\n",
    "    meals_avilable='no',\n",
    "    notic_period='15 days',\n",
    "    lock_in_period='30 days',\n",
    "    amenities_count=3,\n",
    "    in_time_at_night='11 PM',\n",
    "    non_veg_allowed='yes',\n",
    "    opposite_gender_allowed='no',\n",
    "    visitors_allowed='yes',\n",
    "    gurdian_allowed='yes',\n",
    "    drinking_allowed='no',\n",
    "    smoking_allowed='no'\n",
    ")\n",
    "\n",
    "print(f\"✅ Predicted Rent: ₹{predicted_rent}\")"
   ]
  },
  {
   "cell_type": "code",
   "execution_count": 4,
   "id": "596e9a4f-808a-4251-9df2-e514293e690b",
   "metadata": {},
   "outputs": [
    {
     "name": "stdout",
     "output_type": "stream",
     "text": [
      "✅ Predicted Rent: ₹6985.0\n"
     ]
    }
   ],
   "source": [
    "predicted_rent = predict_pg_rent_refined(\n",
    "    city='nagpur',\n",
    "    area='omkar nagar',\n",
    "    location='omkar nagar, nagpur',\n",
    "    zone='south',\n",
    "    shearing='double',\n",
    "    best_suit_for='students',\n",
    "    meals_avilable='yes',\n",
    "    notic_period='15 days',\n",
    "    lock_in_period='30 days',\n",
    "    amenities_count=3,\n",
    "    in_time_at_night='11 PM',\n",
    "    non_veg_allowed='yes',\n",
    "    opposite_gender_allowed='no',\n",
    "    visitors_allowed='yes',\n",
    "    gurdian_allowed='yes',\n",
    "    drinking_allowed='no',\n",
    "    smoking_allowed='no'\n",
    ")\n",
    "\n",
    "print(f\"✅ Predicted Rent: ₹{predicted_rent}\")"
   ]
  },
  {
   "cell_type": "code",
   "execution_count": null,
   "id": "b3c16210-7ade-44f0-8cd9-1443be46a0a4",
   "metadata": {},
   "outputs": [],
   "source": []
  }
 ],
 "metadata": {
  "kernelspec": {
   "display_name": "Python(rental_price_env)",
   "language": "python",
   "name": "rental_price_env"
  },
  "language_info": {
   "codemirror_mode": {
    "name": "ipython",
    "version": 3
   },
   "file_extension": ".py",
   "mimetype": "text/x-python",
   "name": "python",
   "nbconvert_exporter": "python",
   "pygments_lexer": "ipython3",
   "version": "3.11.11"
  }
 },
 "nbformat": 4,
 "nbformat_minor": 5
}
