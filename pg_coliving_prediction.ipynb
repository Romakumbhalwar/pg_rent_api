{
 "cells": [
  {
   "cell_type": "code",
   "execution_count": 1,
   "id": "eb5445a1-3dd5-42f3-87b4-0011ef955dbb",
   "metadata": {},
   "outputs": [
    {
     "name": "stdout",
     "output_type": "stream",
     "text": [
      " Model saved as pg_rent_model_full.pkl\n"
     ]
    }
   ],
   "source": [
    "import pandas as pd\n",
    "from sklearn.model_selection import train_test_split\n",
    "from sklearn.preprocessing import OneHotEncoder\n",
    "from sklearn.compose import ColumnTransformer\n",
    "from sklearn.pipeline import Pipeline\n",
    "from sklearn.ensemble import RandomForestRegressor\n",
    "import joblib\n",
    "\n",
    "# Load the dataset\n",
    "df = pd.read_csv(\"pg_coliving_dataset.csv\")\n",
    "\n",
    "# Keep only the listed columns\n",
    "columns = [\n",
    "    'listing_title', 'city', 'area', 'location', 'zone', 'shearing', 'best_suit_for',\n",
    "    'meals_avilable', 'notic_period', 'lock_in_period', 'amenities_count',\n",
    "    'in_time_at_night', 'non_veg_allowed', 'opposite_gender_allowed',\n",
    "    'visitors_allowed', 'gurdian_allowed', 'drinking_allowed', 'smoking_allowed',\n",
    "    'security_deposite', 'rent_price'\n",
    "]\n",
    "df = df[columns].copy()\n",
    "\n",
    "#  Handle numeric columns\n",
    "df['amenities_count'] = pd.to_numeric(df['amenities_count'], errors='coerce').fillna(0)\n",
    "df['security_deposite'] = pd.to_numeric(df['security_deposite'], errors='coerce').fillna(0)\n",
    "df['rent_price'] = pd.to_numeric(df['rent_price'], errors='coerce')\n",
    "\n",
    "#  Drop missing target values\n",
    "df.dropna(subset=['rent_price'], inplace=True)\n",
    "\n",
    "#  Split features and target\n",
    "X = df.drop(columns='rent_price')\n",
    "y = df['rent_price']\n",
    "\n",
    "#  Identify categorical columns (exclude numeric ones)\n",
    "cat_cols = X.select_dtypes(include='object').columns.tolist()\n",
    "\n",
    "#  Preprocessing and model pipeline\n",
    "preprocessor = ColumnTransformer([\n",
    "    ('cat', OneHotEncoder(handle_unknown='ignore'), cat_cols)\n",
    "], remainder='passthrough')\n",
    "\n",
    "model = Pipeline([\n",
    "    ('pre', preprocessor),\n",
    "    ('rf', RandomForestRegressor(n_estimators=100, random_state=42))\n",
    "])\n",
    "\n",
    "#  Train/test split and model training\n",
    "X_train, X_test, y_train, y_test = train_test_split(X, y, test_size=0.2, random_state=42)\n",
    "model.fit(X_train, y_train)\n",
    "\n",
    "#  Save the trained model\n",
    "joblib.dump(model, \"pg_rent_model_full.pkl\")\n",
    "print(\" Model saved as pg_rent_model_full.pkl\")\n"
   ]
  },
  {
   "cell_type": "code",
   "execution_count": 2,
   "id": "1c1b2ecd-8f83-4ae3-a619-7510f4dfaa85",
   "metadata": {},
   "outputs": [],
   "source": [
    "import pandas as pd\n",
    "import joblib\n",
    "\n",
    "def predict_pg_rent_full(\n",
    "    listing_title, city, area, location, zone, shearing, best_suit_for,\n",
    "    meals_avilable, notic_period, lock_in_period, amenities_count,\n",
    "    in_time_at_night, non_veg_allowed, opposite_gender_allowed,\n",
    "    visitors_allowed, gurdian_allowed, drinking_allowed, smoking_allowed,\n",
    "    security_deposite\n",
    "):\n",
    "    # Load model\n",
    "    model = joblib.load(\"pg_rent_model_full.pkl\")\n",
    "\n",
    "    # Create input dataframe\n",
    "    input_df = pd.DataFrame([{\n",
    "        'listing_title': listing_title,\n",
    "        'city': city,\n",
    "        'area': area,\n",
    "        'location': location,\n",
    "        'zone': zone,\n",
    "        'shearing': shearing,\n",
    "        'best_suit_for': best_suit_for,\n",
    "        'meals_avilable': meals_avilable,\n",
    "        'notic_period': notic_period,\n",
    "        'lock_in_period': lock_in_period,\n",
    "        'amenities_count': amenities_count,\n",
    "        'in_time_at_night': in_time_at_night,\n",
    "        'non_veg_allowed': non_veg_allowed,\n",
    "        'opposite_gender_allowed': opposite_gender_allowed,\n",
    "        'visitors_allowed': visitors_allowed,\n",
    "        'gurdian_allowed': gurdian_allowed,\n",
    "        'drinking_allowed': drinking_allowed,\n",
    "        'smoking_allowed': smoking_allowed,\n",
    "        'security_deposite': security_deposite\n",
    "    }])\n",
    "\n",
    "    # Predict\n",
    "    pred_rent = model.predict(input_df)[0]\n",
    "    return round(pred_rent, 2)\n"
   ]
  },
  {
   "cell_type": "code",
   "execution_count": 3,
   "id": "1e89eced-13a8-47be-a9dd-cc2515060161",
   "metadata": {},
   "outputs": [
    {
     "name": "stdout",
     "output_type": "stream",
     "text": [
      "Predicted Rent: ₹4711.5\n"
     ]
    }
   ],
   "source": [
    "rent = predict_pg_rent_full(\n",
    "    listing_title=\"pg for boys\",\n",
    "    city=\"Nagpur\",\n",
    "    area=\"Mankapur\", \n",
    "    location=\"Near Bus Stop\",\n",
    "    zone=\"North\",\n",
    "    shearing=\"tripal\",\n",
    "    best_suit_for=\"Students\", \n",
    "    meals_avilable=\"Yes\",\n",
    "    notic_period=\"15 days\",\n",
    "    lock_in_period=\"3 months\", \n",
    "    amenities_count=6,\n",
    "    in_time_at_night=\"11 PM\",\n",
    "    non_veg_allowed=\"Yes\",\n",
    "    opposite_gender_allowed=\"No\",\n",
    "    visitors_allowed=\"Yes\", \n",
    "    gurdian_allowed=\"Yes\", \n",
    "    drinking_allowed=\"No\",\n",
    "    smoking_allowed=\"No\", \n",
    "    security_deposite=3000\n",
    ")\n",
    "print(f\"Predicted Rent: ₹{rent}\")\n"
   ]
  },
  {
   "cell_type": "code",
   "execution_count": 4,
   "id": "9fc10e05-ad22-4b83-9654-9f3dad46b073",
   "metadata": {},
   "outputs": [
    {
     "name": "stdout",
     "output_type": "stream",
     "text": [
      "Predicted Rent: ₹8147.0\n"
     ]
    }
   ],
   "source": [
    "rent = predict_pg_rent_full(\n",
    "    listing_title=\"pg for girls\",\n",
    "    city=\"Nagpur\",\n",
    "    area=\"jaitala\", \n",
    "    location=\"jaitala, nagpur\",\n",
    "    zone=\"south\",\n",
    "    shearing=\"private\",\n",
    "    best_suit_for=\"Students\", \n",
    "    meals_avilable=\"Yes\",\n",
    "    notic_period=\"15 days\",\n",
    "    lock_in_period=\"3 months\", \n",
    "    amenities_count=7,\n",
    "    in_time_at_night=\"10 PM\",\n",
    "    non_veg_allowed=\"Yes\",\n",
    "    opposite_gender_allowed=\"No\",\n",
    "    visitors_allowed=\"Yes\", \n",
    "    gurdian_allowed=\"Yes\", \n",
    "    drinking_allowed=\"No\",\n",
    "    smoking_allowed=\"No\", \n",
    "    security_deposite=3000\n",
    ")\n",
    "print(f\"Predicted Rent: ₹{rent}\")\n"
   ]
  },
  {
   "cell_type": "code",
   "execution_count": 6,
   "id": "766cf6e2-830d-4f43-b8e7-9ae569be022c",
   "metadata": {},
   "outputs": [
    {
     "name": "stdout",
     "output_type": "stream",
     "text": [
      "Predicted Rent: ₹8390.0\n"
     ]
    }
   ],
   "source": [
    "rent = predict_pg_rent_full(\n",
    "    listing_title=\"pg for girl and boys\",\n",
    "    city=\"Nagpur\",\n",
    "    area=\"omkar nagar\", \n",
    "    location=\"omkar nagar, nagpur\",\n",
    "    zone=\"south\",\n",
    "    shearing=\"private\",\n",
    "    best_suit_for=\"Students, woring\", \n",
    "    meals_avilable=\"Yes\",\n",
    "    notic_period=\"10 days\",\n",
    "    lock_in_period=\"2 months\", \n",
    "    amenities_count=5,\n",
    "    in_time_at_night=\"no\",\n",
    "    non_veg_allowed=\"Yes\",\n",
    "    opposite_gender_allowed=\"yes\",\n",
    "    visitors_allowed=\"Yes\", \n",
    "    gurdian_allowed=\"Yes\", \n",
    "    drinking_allowed=\"No\",\n",
    "    smoking_allowed=\"No\", \n",
    "    security_deposite=4000\n",
    ")\n",
    "print(f\"Predicted Rent: ₹{rent}\")\n"
   ]
  },
  {
   "cell_type": "code",
   "execution_count": null,
   "id": "ce5ff6b8-6943-4add-9834-2b18ffb24529",
   "metadata": {},
   "outputs": [],
   "source": []
  }
 ],
 "metadata": {
  "kernelspec": {
   "display_name": "Python(rental_price_env)",
   "language": "python",
   "name": "rental_price_env"
  },
  "language_info": {
   "codemirror_mode": {
    "name": "ipython",
    "version": 3
   },
   "file_extension": ".py",
   "mimetype": "text/x-python",
   "name": "python",
   "nbconvert_exporter": "python",
   "pygments_lexer": "ipython3",
   "version": "3.11.11"
  }
 },
 "nbformat": 4,
 "nbformat_minor": 5
}
